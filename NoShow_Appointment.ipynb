{
 "cells": [
  {
   "cell_type": "markdown",
   "metadata": {},
   "source": [
    "# Project: No-show appointments Data Analysis\n",
    "\n",
    "## Table of Contents\n",
    "<ul>\n",
    "<li><a href=\"#intro\">Introduction</a></li>\n",
    "<li><a href=\"#wrangling\">Data Wrangling</a></li>\n",
    "<li><a href=\"#eda\">Exploratory Data Analysis</a></li>\n",
    "<li><a href=\"#conclusions\">Conclusions</a></li>\n",
    "</ul>"
   ]
  },
  {
   "cell_type": "markdown",
   "metadata": {},
   "source": [
    "<a id='intro'></a>\n",
    "## Introduction: No- show for medical appointments\n",
    "\n",
    "> In this analysis, the patients showing up and not showing up for their medical appointments at hospitals in Brazil is considered.\n",
    "\n",
    "> The dataset selected for analysis is \"No-show appointments\". In this analysis, the factors that help in predicting if the patients will show up or not to their appointments will be analyzed. In the given dataset, the medical appointment details of patients in Brazil is described. The data related to patient and his/her appointment are given. \n",
    "\n",
    "> Patient data included are: <br>'PatientId'\t- medical ID of the patient <br>'AppointmentID' - appointment number provided to patient by hospital<br>'Gender' - sex of the patient either Male or Female <br>'ScheduledDay' - the date on which the patient requested the hospital to allot an appointment <br>'AppointmentDay' - date on which the patient will be showing up at the hospital for medical check up <br>'Age' - age of the patient, 'Neighbourhood' - location of the hospital where the medical check up is going to be taken place <br>'Scholarship' - describes if the patient is enrolled in the Brasilian Welfare Program Bolsa Familia, 'Hipertension' - describes if the patient has hypertension <br>'Diabetes' - describes if patient is diabetic <br>'Alcoholism' - indicates if patient is alcoholic <br>'Handcap' - indicates if patient is handicap <br> 'SMS_received' - describes if patient got an appointment confirmation/reminder SMS from hospital<br> 'No-show' indicates that the patient didnot show up for appointment if value equal to 1 and patient showed up for appointment if value is 0."
   ]
  },
  {
   "cell_type": "code",
   "execution_count": 1,
   "metadata": {},
   "outputs": [],
   "source": [
    "# import the library\n",
    "\n",
    "import numpy as np\n",
    "import pandas as pd\n",
    "import matplotlib.pyplot as plt\n",
    "% matplotlib inline\n",
    "import seaborn as sns"
   ]
  },
  {
   "cell_type": "markdown",
   "metadata": {},
   "source": [
    "Questions that will be explored:\n",
    "\n",
    "Analysis: What are the factors that will helping in predicting if the patient will show up to the appointment or not? Does showing   up to the appointment depend on certain characteristics of the patient or is it completely not related to the patient  characteistics?\n",
    "So, 'No-show' is the dependent variable. 'Scheduled Day' and 'AppointmentDay', 'Age', 'Gender' and 'Scholarship' are the independent variables\n",
    "\n",
    "> 1) Does age of the patient help in predicting if the patient will show up?\n",
    "\n",
    "> 2) Does Gender of the patient help in predicting if the patient will show up?\n",
    "\n",
    "> 3) Does having same day in 'Scheduled Day' and 'AppointmentDay' help in predicting if the patient will show up?\n",
    "\n",
    "> 4) Does scholarship help in predicting if the patient will show up?\n",
    "\n",
    "> 5) Does patient's health and medical conditions help in predicting if the patient will show up?\n",
    "\n",
    "> 6) Does hospital location and/or SMS_received help in predicting if the patient will show up?"
   ]
  },
  {
   "cell_type": "markdown",
   "metadata": {},
   "source": [
    "<a id='wrangling'></a>\n",
    "## Data Wrangling\n",
    "\n",
    "\n",
    "### General Properties\n",
    "> Loading dataset and analyse it"
   ]
  },
  {
   "cell_type": "code",
   "execution_count": null,
   "metadata": {},
   "outputs": [],
   "source": [
    "# Load dataset and print first few lines\n",
    "\n",
    "df = pd.read_csv('noshowappointments-kagglev2-may-2016.csv')\n",
    "#df.head(8)"
   ]
  },
  {
   "cell_type": "code",
   "execution_count": null,
   "metadata": {},
   "outputs": [],
   "source": [
    "#lets determine the row and column count of the dataset\n",
    "df.shape"
   ]
  },
  {
   "cell_type": "markdown",
   "metadata": {},
   "source": [
    "Lets look into the data and its characteristics: <br>\n",
    "Inspect the range and columns in the dataset and its datatypes. Check for any missing data."
   ]
  },
  {
   "cell_type": "code",
   "execution_count": null,
   "metadata": {},
   "outputs": [],
   "source": []
  }
 ],
 "metadata": {
  "kernelspec": {
   "display_name": "Python 3",
   "language": "python",
   "name": "python3"
  },
  "language_info": {
   "codemirror_mode": {
    "name": "ipython",
    "version": 3
   },
   "file_extension": ".py",
   "mimetype": "text/x-python",
   "name": "python",
   "nbconvert_exporter": "python",
   "pygments_lexer": "ipython3",
   "version": "3.6.4"
  }
 },
 "nbformat": 4,
 "nbformat_minor": 2
}
